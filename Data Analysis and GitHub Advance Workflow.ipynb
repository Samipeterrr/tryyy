{
 "cells": [
  {
   "cell_type": "code",
   "execution_count": 1,
   "id": "f59fa317-ee35-4c97-a290-afe0a99c9b84",
   "metadata": {},
   "outputs": [],
   "source": [
    "import numpy as np\n",
    "import pandas as pd \n",
    "import matplotlib.pyplot as plt"
   ]
  },
  {
   "cell_type": "code",
   "execution_count": 3,
   "id": "907c7bb7-229b-4e02-9b50-d2156aa10a49",
   "metadata": {},
   "outputs": [],
   "source": [
    "data = pd.read_csv(\"GenZ_DatingApp_Data.csv\")"
   ]
  },
  {
   "cell_type": "code",
   "execution_count": 5,
   "id": "25035645-dcc4-498b-805c-531942cf7c00",
   "metadata": {},
   "outputs": [
    {
     "name": "stdout",
     "output_type": "stream",
     "text": [
      "<class 'pandas.core.frame.DataFrame'>\n",
      "RangeIndex: 500 entries, 0 to 499\n",
      "Data columns (total 16 columns):\n",
      " #   Column                   Non-Null Count  Dtype \n",
      "---  ------                   --------------  ----- \n",
      " 0   User_ID                  500 non-null    int64 \n",
      " 1   Age                      500 non-null    int64 \n",
      " 2   Gender                   500 non-null    object\n",
      " 3   Location                 500 non-null    object\n",
      " 4   Education                500 non-null    object\n",
      " 5   Occupation               500 non-null    object\n",
      " 6   Primary_App              393 non-null    object\n",
      " 7   Secondary_Apps           386 non-null    object\n",
      " 8   Usage_Frequency          500 non-null    object\n",
      " 9   Daily_Usage_Time         500 non-null    object\n",
      " 10  Reason_for_Using         500 non-null    object\n",
      " 11  Satisfaction             500 non-null    int64 \n",
      " 12  Challenges               383 non-null    object\n",
      " 13  Desired_Features         500 non-null    object\n",
      " 14  Preferred_Communication  500 non-null    object\n",
      " 15  Partner_Priorities       500 non-null    object\n",
      "dtypes: int64(3), object(13)\n",
      "memory usage: 62.6+ KB\n"
     ]
    }
   ],
   "source": [
    "data.info()"
   ]
  },
  {
   "cell_type": "markdown",
   "id": "45e429fb-1a7e-45cf-86fc-a55803868248",
   "metadata": {},
   "source": [
    "Task 1: Data Quality Assessment "
   ]
  },
  {
   "cell_type": "markdown",
   "id": "a231cc11-c16a-4e9c-b88e-ee14306b457b",
   "metadata": {},
   "source": [
    "Q1: Are there any duplicate rows? If yes, why might duplicates exist in this dataset?"
   ]
  },
  {
   "cell_type": "code",
   "execution_count": 13,
   "id": "03bea34d-6081-4a52-8999-143330c89064",
   "metadata": {},
   "outputs": [
    {
     "name": "stdout",
     "output_type": "stream",
     "text": [
      "Empty DataFrame\n",
      "Columns: [User_ID, Age, Gender, Location, Education, Occupation, Primary_App, Secondary_Apps, Usage_Frequency, Daily_Usage_Time, Reason_for_Using, Satisfaction, Challenges, Desired_Features, Preferred_Communication, Partner_Priorities]\n",
      "Index: []\n",
      "0\n"
     ]
    }
   ],
   "source": [
    "#To check for any duplicated rows\n",
    "# Returns True for duplicate rows\n",
    "duplicates = data[data.duplicated()]\n",
    "\n",
    "# Display duplicate rows\n",
    "print(duplicates)\n",
    "\n",
    "#To display the sum of duplicate rows\n",
    "duplicate_count = data.duplicated().sum()\n",
    "print(duplicate_count)"
   ]
  },
  {
   "cell_type": "markdown",
   "id": "cc75f65c-3d68-41aa-8ef5-fd5d7e49594c",
   "metadata": {},
   "source": [
    "The code indicates that there are no duplicate rows, as shown by the empty DataFrame and a count of zero (0)"
   ]
  },
  {
   "cell_type": "code",
   "execution_count": 8,
   "id": "2e28a3ae-e057-4eee-949a-7598eb88db9b",
   "metadata": {},
   "outputs": [
    {
     "name": "stdout",
     "output_type": "stream",
     "text": [
      "Number of rows: 500\n"
     ]
    }
   ],
   "source": [
    "num_rows = len(data)\n",
    "print(f'Number of rows: {num_rows}')"
   ]
  },
  {
   "cell_type": "code",
   "execution_count": 9,
   "id": "1b80af31-bde3-4f7f-8a25-c6bcbd8e853d",
   "metadata": {},
   "outputs": [
    {
     "name": "stdout",
     "output_type": "stream",
     "text": [
      "Number of columns: 16\n"
     ]
    }
   ],
   "source": [
    "num_columns = len(data.columns)\n",
    "print(f'Number of columns: {num_columns}')"
   ]
  },
  {
   "cell_type": "code",
   "execution_count": 10,
   "id": "46489c0a-fcba-453e-863d-130f3b0cfd7f",
   "metadata": {},
   "outputs": [
    {
     "data": {
      "text/html": [
       "<div>\n",
       "<style scoped>\n",
       "    .dataframe tbody tr th:only-of-type {\n",
       "        vertical-align: middle;\n",
       "    }\n",
       "\n",
       "    .dataframe tbody tr th {\n",
       "        vertical-align: top;\n",
       "    }\n",
       "\n",
       "    .dataframe thead th {\n",
       "        text-align: right;\n",
       "    }\n",
       "</style>\n",
       "<table border=\"1\" class=\"dataframe\">\n",
       "  <thead>\n",
       "    <tr style=\"text-align: right;\">\n",
       "      <th></th>\n",
       "      <th>User_ID</th>\n",
       "      <th>Age</th>\n",
       "      <th>Gender</th>\n",
       "      <th>Location</th>\n",
       "      <th>Education</th>\n",
       "      <th>Occupation</th>\n",
       "      <th>Primary_App</th>\n",
       "      <th>Secondary_Apps</th>\n",
       "      <th>Usage_Frequency</th>\n",
       "      <th>Daily_Usage_Time</th>\n",
       "      <th>Reason_for_Using</th>\n",
       "      <th>Satisfaction</th>\n",
       "      <th>Challenges</th>\n",
       "      <th>Desired_Features</th>\n",
       "      <th>Preferred_Communication</th>\n",
       "      <th>Partner_Priorities</th>\n",
       "    </tr>\n",
       "  </thead>\n",
       "  <tbody>\n",
       "    <tr>\n",
       "      <th>0</th>\n",
       "      <td>1</td>\n",
       "      <td>20</td>\n",
       "      <td>Non-binary</td>\n",
       "      <td>Bangalore</td>\n",
       "      <td>Undergraduate</td>\n",
       "      <td>Freelancer</td>\n",
       "      <td>Hinge</td>\n",
       "      <td>Hinge</td>\n",
       "      <td>Monthly</td>\n",
       "      <td>1 hour</td>\n",
       "      <td>Finding a Partner</td>\n",
       "      <td>4</td>\n",
       "      <td>Safety Concerns</td>\n",
       "      <td>Audio Calls</td>\n",
       "      <td>Video Calls</td>\n",
       "      <td>Values &gt; Personality &gt; Appearance</td>\n",
       "    </tr>\n",
       "    <tr>\n",
       "      <th>1</th>\n",
       "      <td>2</td>\n",
       "      <td>24</td>\n",
       "      <td>Female</td>\n",
       "      <td>Delhi</td>\n",
       "      <td>Undergraduate</td>\n",
       "      <td>Part-time Job</td>\n",
       "      <td>Hinge</td>\n",
       "      <td>OkCupid</td>\n",
       "      <td>Weekly</td>\n",
       "      <td>30 minutes</td>\n",
       "      <td>Casual Dating</td>\n",
       "      <td>5</td>\n",
       "      <td>Time-Wasting</td>\n",
       "      <td>Video Calls</td>\n",
       "      <td>Text</td>\n",
       "      <td>Values &gt; Personality &gt; Appearance</td>\n",
       "    </tr>\n",
       "    <tr>\n",
       "      <th>2</th>\n",
       "      <td>3</td>\n",
       "      <td>24</td>\n",
       "      <td>Non-binary</td>\n",
       "      <td>Kolkata</td>\n",
       "      <td>Undergraduate</td>\n",
       "      <td>Intern</td>\n",
       "      <td>NaN</td>\n",
       "      <td>NaN</td>\n",
       "      <td>Weekly</td>\n",
       "      <td>2 hours</td>\n",
       "      <td>Casual Dating</td>\n",
       "      <td>4</td>\n",
       "      <td>Safety Concerns</td>\n",
       "      <td>Detailed Profiles</td>\n",
       "      <td>Text</td>\n",
       "      <td>Values &gt; Personality &gt; Appearance</td>\n",
       "    </tr>\n",
       "    <tr>\n",
       "      <th>3</th>\n",
       "      <td>4</td>\n",
       "      <td>22</td>\n",
       "      <td>Non-binary</td>\n",
       "      <td>Delhi</td>\n",
       "      <td>Graduate</td>\n",
       "      <td>Full-time Job</td>\n",
       "      <td>NaN</td>\n",
       "      <td>OkCupid</td>\n",
       "      <td>Daily</td>\n",
       "      <td>30 minutes</td>\n",
       "      <td>Casual Fun</td>\n",
       "      <td>3</td>\n",
       "      <td>NaN</td>\n",
       "      <td>AI Recommendations</td>\n",
       "      <td>Voice Notes</td>\n",
       "      <td>Personality &gt; Interests &gt; Values</td>\n",
       "    </tr>\n",
       "    <tr>\n",
       "      <th>4</th>\n",
       "      <td>5</td>\n",
       "      <td>18</td>\n",
       "      <td>Male</td>\n",
       "      <td>Delhi</td>\n",
       "      <td>Graduate</td>\n",
       "      <td>Intern</td>\n",
       "      <td>OkCupid</td>\n",
       "      <td>OkCupid</td>\n",
       "      <td>Weekly</td>\n",
       "      <td>2 hours</td>\n",
       "      <td>Casual Fun</td>\n",
       "      <td>4</td>\n",
       "      <td>Safety Concerns</td>\n",
       "      <td>Video Calls</td>\n",
       "      <td>Text</td>\n",
       "      <td>Appearance &gt; Interests &gt; Personality</td>\n",
       "    </tr>\n",
       "  </tbody>\n",
       "</table>\n",
       "</div>"
      ],
      "text/plain": [
       "   User_ID  Age      Gender   Location      Education     Occupation  \\\n",
       "0        1   20  Non-binary  Bangalore  Undergraduate     Freelancer   \n",
       "1        2   24      Female      Delhi  Undergraduate  Part-time Job   \n",
       "2        3   24  Non-binary    Kolkata  Undergraduate         Intern   \n",
       "3        4   22  Non-binary      Delhi       Graduate  Full-time Job   \n",
       "4        5   18        Male      Delhi       Graduate         Intern   \n",
       "\n",
       "  Primary_App Secondary_Apps Usage_Frequency Daily_Usage_Time  \\\n",
       "0       Hinge          Hinge         Monthly           1 hour   \n",
       "1       Hinge        OkCupid          Weekly       30 minutes   \n",
       "2         NaN            NaN          Weekly          2 hours   \n",
       "3         NaN        OkCupid           Daily       30 minutes   \n",
       "4     OkCupid        OkCupid          Weekly          2 hours   \n",
       "\n",
       "    Reason_for_Using  Satisfaction       Challenges    Desired_Features  \\\n",
       "0  Finding a Partner             4  Safety Concerns         Audio Calls   \n",
       "1      Casual Dating             5     Time-Wasting         Video Calls   \n",
       "2      Casual Dating             4  Safety Concerns   Detailed Profiles   \n",
       "3         Casual Fun             3              NaN  AI Recommendations   \n",
       "4         Casual Fun             4  Safety Concerns         Video Calls   \n",
       "\n",
       "  Preferred_Communication                    Partner_Priorities  \n",
       "0             Video Calls     Values > Personality > Appearance  \n",
       "1                    Text     Values > Personality > Appearance  \n",
       "2                    Text     Values > Personality > Appearance  \n",
       "3             Voice Notes      Personality > Interests > Values  \n",
       "4                    Text  Appearance > Interests > Personality  "
      ]
     },
     "execution_count": 10,
     "metadata": {},
     "output_type": "execute_result"
    }
   ],
   "source": [
    "data.head()"
   ]
  },
  {
   "cell_type": "markdown",
   "id": "f2935608-bd27-4d92-925e-b6b52369babe",
   "metadata": {},
   "source": [
    "Q2: Are there inconsistencies in categorical values (e.g., spelling variations, case\n",
    "sensitivity)?"
   ]
  },
  {
   "cell_type": "code",
   "execution_count": 14,
   "id": "81475b50-e95b-4d8b-9e33-587179ec8197",
   "metadata": {},
   "outputs": [
    {
     "name": "stdout",
     "output_type": "stream",
     "text": [
      "Index(['Gender', 'Location', 'Education', 'Occupation', 'Primary_App',\n",
      "       'Secondary_Apps', 'Usage_Frequency', 'Daily_Usage_Time',\n",
      "       'Reason_for_Using', 'Challenges', 'Desired_Features',\n",
      "       'Preferred_Communication', 'Partner_Priorities'],\n",
      "      dtype='object')\n"
     ]
    }
   ],
   "source": [
    "#First of all we identify the categorical columns\n",
    "categorical_cols = data.select_dtypes(include=['object']).columns\n",
    "print(categorical_cols)"
   ]
  },
  {
   "cell_type": "code",
   "execution_count": 16,
   "id": "1b074ccd-412d-4ad8-8a01-3ff2df5d08f3",
   "metadata": {},
   "outputs": [
    {
     "name": "stdout",
     "output_type": "stream",
     "text": [
      "\n",
      "Unique values in 'Gender':\n",
      "['Non-binary' 'Female' 'Male']\n",
      "\n",
      "Unique values in 'Location':\n",
      "['Bangalore' 'Delhi' 'Kolkata' 'Mumbai' 'Chennai' 'Pune' 'Hyderabad']\n",
      "\n",
      "Unique values in 'Education':\n",
      "['Undergraduate' 'Graduate' 'Postgraduate']\n",
      "\n",
      "Unique values in 'Occupation':\n",
      "['Freelancer' 'Part-time Job' 'Intern' 'Full-time Job' 'Student']\n",
      "\n",
      "Unique values in 'Primary_App':\n",
      "['Hinge' nan 'OkCupid' 'Tinder' 'Bumble']\n",
      "\n",
      "Unique values in 'Secondary_Apps':\n",
      "['Hinge' 'OkCupid' nan 'Tinder' 'Bumble']\n",
      "\n",
      "Unique values in 'Usage_Frequency':\n",
      "['Monthly' 'Weekly' 'Daily']\n",
      "\n",
      "Unique values in 'Daily_Usage_Time':\n",
      "['1 hour' '30 minutes' '2 hours' '1.5 hours' '3 hours']\n",
      "\n",
      "Unique values in 'Reason_for_Using':\n",
      "['Finding a Partner' 'Casual Dating' 'Casual Fun' 'Social Interaction']\n",
      "\n",
      "Unique values in 'Challenges':\n",
      "['Safety Concerns' 'Time-Wasting' nan 'Lack of Genuine Matches']\n",
      "\n",
      "Unique values in 'Desired_Features':\n",
      "['Audio Calls' 'Video Calls' 'Detailed Profiles' 'AI Recommendations'\n",
      " 'Location-Based Matching']\n",
      "\n",
      "Unique values in 'Preferred_Communication':\n",
      "['Video Calls' 'Text' 'Voice Notes']\n",
      "\n",
      "Unique values in 'Partner_Priorities':\n",
      "['Values > Personality > Appearance' 'Personality > Interests > Values'\n",
      " 'Appearance > Interests > Personality']\n"
     ]
    }
   ],
   "source": [
    "# Display unique values in each categorical column to find inconsistencies\n",
    "for col in categorical_cols:\n",
    "    print(f\"\\nUnique values in '{col}':\")\n",
    "    print(data[col].unique())\n"
   ]
  },
  {
   "cell_type": "code",
   "execution_count": 19,
   "id": "1a3c29ef-5ad0-48a5-8a15-2913c28f9a0a",
   "metadata": {},
   "outputs": [
    {
     "name": "stdout",
     "output_type": "stream",
     "text": [
      "No case sensitivity issues in column: Gender\n",
      "No case sensitivity issues in column: Location\n",
      "No case sensitivity issues in column: Education\n",
      "No case sensitivity issues in column: Occupation\n",
      "No case sensitivity issues in column: Primary_App\n",
      "No case sensitivity issues in column: Secondary_Apps\n",
      "No case sensitivity issues in column: Usage_Frequency\n",
      "No case sensitivity issues in column: Daily_Usage_Time\n",
      "No case sensitivity issues in column: Reason_for_Using\n",
      "No case sensitivity issues in column: Challenges\n",
      "No case sensitivity issues in column: Desired_Features\n",
      "No case sensitivity issues in column: Preferred_Communication\n",
      "No case sensitivity issues in column: Partner_Priorities\n"
     ]
    }
   ],
   "source": [
    "# Check for case sensitivity issues in categorical columns\n",
    "for col in categorical_cols:\n",
    "    unique_values = data[col].dropna().unique()\n",
    "    lower_case_values = [str(val).lower() for val in unique_values]\n",
    "    \n",
    "    if len(set(lower_case_values)) != len(set(unique_values)):\n",
    "        print(f\"Case sensitivity issue found in column: {col}\")\n",
    "    else:\n",
    "        print(f\"No case sensitivity issues in column: {col}\")\n"
   ]
  },
  {
   "cell_type": "code",
   "execution_count": 20,
   "id": "f7e9a167-b2d7-47fa-b85e-65aa3b96e83f",
   "metadata": {},
   "outputs": [
    {
     "name": "stdout",
     "output_type": "stream",
     "text": [
      "No extra spaces in column: Gender\n",
      "No extra spaces in column: Location\n",
      "No extra spaces in column: Education\n",
      "No extra spaces in column: Occupation\n",
      "No extra spaces in column: Primary_App\n",
      "No extra spaces in column: Secondary_Apps\n",
      "No extra spaces in column: Usage_Frequency\n",
      "No extra spaces in column: Daily_Usage_Time\n",
      "No extra spaces in column: Reason_for_Using\n",
      "No extra spaces in column: Challenges\n",
      "No extra spaces in column: Desired_Features\n",
      "No extra spaces in column: Preferred_Communication\n",
      "No extra spaces in column: Partner_Priorities\n"
     ]
    }
   ],
   "source": [
    "# Check for extra spaces in categorical columns\n",
    "for col in categorical_cols:\n",
    "    if data[col].str.contains(r'^\\s|\\s$', regex=True).any():\n",
    "        print(f\"Extra spaces found in column: {col}\")\n",
    "    else:\n",
    "        print(f\"No extra spaces in column: {col}\")\n"
   ]
  },
  {
   "cell_type": "markdown",
   "id": "0e2bf930-7a46-4e97-9906-893b04f9cd8e",
   "metadata": {},
   "source": [
    "Answer: No inconsistencies were found in the dataset's categorical columns after the check."
   ]
  },
  {
   "cell_type": "markdown",
   "id": "1db9c0e6-8bed-42dc-a7d5-35f45c75a282",
   "metadata": {},
   "source": [
    "Q3: What should we do if a column has too many missing values?"
   ]
  },
  {
   "cell_type": "markdown",
   "id": "8cd0acb2-3c56-4bf8-aa86-f90512420996",
   "metadata": {},
   "source": [
    "everal actions can be taken to address missing values in a dataset. Based on research, here are a few steps to handle missing data:\n",
    "\n",
    "Step 1: Remove the Column (Drop it)\n",
    "This approach is suitable when a column has over 50% missing values and is not essential to the analysis. It is also used when the missing data cannot be easily filled or does not contribute much value.\n",
    "The code to drop a column with more than 50% missing values is:\n",
    "\n",
    "python\n",
    "Copy\n",
    "Edit\n",
    "data = data.dropna(thresh=len(data) * 0.5, axis=1)\n",
    "Step 2: Fill in the Missing Values (Imputation)\n",
    "If the column is important, the missing values can be replaced with meaningful data.\n",
    "\n",
    "Step 3: For Categorical Columns (Text Data):\n",
    "\n",
    "Fill with the most common value (mode)\n",
    "For Numerical Columns (Numbers):\n",
    "\n",
    "Fill with the average (mean) or middle value (median)\n",
    "Step 4: Flag the Missing Values\n",
    "Mark the missing values for further analysis.\n",
    "\n",
    "Step 5: Remove Rows with Missing Values\n",
    "In some cases, you may choose to remove entire rows that contain missing values."
   ]
  },
  {
   "cell_type": "markdown",
   "id": "6529ed60-7b10-4766-967f-8e070f8eabaf",
   "metadata": {},
   "source": [
    "Q4: Are there outliers in numerical columns? If so, should we remove or adjust them?\n",
    "\n",
    "There were no outliers found in the numerical columns \"Age\" and \"Satisfaction.\" The data appears clean for these columns."
   ]
  },
  {
   "cell_type": "markdown",
   "id": "c64b8b2a-ca56-4ca0-8e40-fe641060fd11",
   "metadata": {},
   "source": [
    "Activity 1: Identify missing values & decide whether to drop, fill, or flag them."
   ]
  },
  {
   "cell_type": "code",
   "execution_count": 21,
   "id": "43e9c7c3-ff52-4a76-b468-fbe1d27d15b5",
   "metadata": {},
   "outputs": [
    {
     "name": "stdout",
     "output_type": "stream",
     "text": [
      "<class 'pandas.core.frame.DataFrame'>\n",
      "RangeIndex: 500 entries, 0 to 499\n",
      "Data columns (total 16 columns):\n",
      " #   Column                   Non-Null Count  Dtype \n",
      "---  ------                   --------------  ----- \n",
      " 0   User_ID                  500 non-null    int64 \n",
      " 1   Age                      500 non-null    int64 \n",
      " 2   Gender                   500 non-null    object\n",
      " 3   Location                 500 non-null    object\n",
      " 4   Education                500 non-null    object\n",
      " 5   Occupation               500 non-null    object\n",
      " 6   Primary_App              393 non-null    object\n",
      " 7   Secondary_Apps           386 non-null    object\n",
      " 8   Usage_Frequency          500 non-null    object\n",
      " 9   Daily_Usage_Time         500 non-null    object\n",
      " 10  Reason_for_Using         500 non-null    object\n",
      " 11  Satisfaction             500 non-null    int64 \n",
      " 12  Challenges               383 non-null    object\n",
      " 13  Desired_Features         500 non-null    object\n",
      " 14  Preferred_Communication  500 non-null    object\n",
      " 15  Partner_Priorities       500 non-null    object\n",
      "dtypes: int64(3), object(13)\n",
      "memory usage: 62.6+ KB\n"
     ]
    }
   ],
   "source": [
    "data.info()"
   ]
  },
  {
   "cell_type": "code",
   "execution_count": 22,
   "id": "8c6446a1-9d8b-4fbf-bbb3-84b3c0ba4f33",
   "metadata": {},
   "outputs": [
    {
     "data": {
      "text/plain": [
       "User_ID                      0\n",
       "Age                          0\n",
       "Gender                       0\n",
       "Location                     0\n",
       "Education                    0\n",
       "Occupation                   0\n",
       "Primary_App                107\n",
       "Secondary_Apps             114\n",
       "Usage_Frequency              0\n",
       "Daily_Usage_Time             0\n",
       "Reason_for_Using             0\n",
       "Satisfaction                 0\n",
       "Challenges                 117\n",
       "Desired_Features             0\n",
       "Preferred_Communication      0\n",
       "Partner_Priorities           0\n",
       "dtype: int64"
      ]
     },
     "execution_count": 22,
     "metadata": {},
     "output_type": "execute_result"
    }
   ],
   "source": [
    "data.isnull().sum()"
   ]
  },
  {
   "cell_type": "code",
   "execution_count": 27,
   "id": "0f06c3b3-f72a-4634-8570-e65535d6217a",
   "metadata": {},
   "outputs": [],
   "source": [
    "data[\"Primary_App\"] = data[\"Primary_App\"].fillna(data[\"Secondary_Apps\"])"
   ]
  },
  {
   "cell_type": "code",
   "execution_count": 28,
   "id": "eaac2bac-f091-4058-a6be-b8edb24b71ab",
   "metadata": {},
   "outputs": [
    {
     "data": {
      "text/plain": [
       "User_ID                      0\n",
       "Age                          0\n",
       "Gender                       0\n",
       "Location                     0\n",
       "Education                    0\n",
       "Occupation                   0\n",
       "Primary_App                  0\n",
       "Secondary_Apps               0\n",
       "Usage_Frequency              0\n",
       "Daily_Usage_Time             0\n",
       "Reason_for_Using             0\n",
       "Satisfaction                 0\n",
       "Challenges                 117\n",
       "Desired_Features             0\n",
       "Preferred_Communication      0\n",
       "Partner_Priorities           0\n",
       "dtype: int64"
      ]
     },
     "execution_count": 28,
     "metadata": {},
     "output_type": "execute_result"
    }
   ],
   "source": [
    "data.isnull().sum()"
   ]
  },
  {
   "cell_type": "code",
   "execution_count": 30,
   "id": "5f15c0b4-836d-4f3f-963b-3e938398e22c",
   "metadata": {},
   "outputs": [],
   "source": [
    "data[\"Challenges\"] = data[\"Challenges\"].fillna(\"Unknown\")"
   ]
  },
  {
   "cell_type": "code",
   "execution_count": 31,
   "id": "5310b140-b598-44d5-996d-269413ffb9cd",
   "metadata": {},
   "outputs": [
    {
     "data": {
      "text/plain": [
       "User_ID                    0\n",
       "Age                        0\n",
       "Gender                     0\n",
       "Location                   0\n",
       "Education                  0\n",
       "Occupation                 0\n",
       "Primary_App                0\n",
       "Secondary_Apps             0\n",
       "Usage_Frequency            0\n",
       "Daily_Usage_Time           0\n",
       "Reason_for_Using           0\n",
       "Satisfaction               0\n",
       "Challenges                 0\n",
       "Desired_Features           0\n",
       "Preferred_Communication    0\n",
       "Partner_Priorities         0\n",
       "dtype: int64"
      ]
     },
     "execution_count": 31,
     "metadata": {},
     "output_type": "execute_result"
    }
   ],
   "source": [
    "data.isnull().sum()"
   ]
  },
  {
   "cell_type": "markdown",
   "id": "b38d12ff-d7bc-4aa2-93bd-c538ba529613",
   "metadata": {},
   "source": [
    "After completing Activity 1 there are no missing values. Initially Columns \"Primary_App\" and \"Secondary_Apps\" had a total of \"107\" and \"114\" missing values respectively but the missing values were replaced. Also the \"Challenges\" columns had a total of \"117\" missing values which i later replaced them with unknown."
   ]
  },
  {
   "cell_type": "markdown",
   "id": "ba1684a2-3198-4c5a-94d5-71bb58d5b631",
   "metadata": {},
   "source": [
    "Activity 2: Check for duplicates and remove them if necessary."
   ]
  },
  {
   "cell_type": "code",
   "execution_count": 34,
   "id": "dd093ab5-20aa-4a84-95b4-32dd464c6a62",
   "metadata": {},
   "outputs": [
    {
     "name": "stdout",
     "output_type": "stream",
     "text": [
      "The total number of duplicates is 0\n"
     ]
    }
   ],
   "source": [
    "#To display the sum of duplicate\n",
    "duplicate_count = data.duplicated().sum()\n",
    "print(f\"The total number of duplicates is {duplicate_count}\")"
   ]
  },
  {
   "cell_type": "markdown",
   "id": "528458cd-e454-4042-bd26-131e1d876572",
   "metadata": {},
   "source": [
    "Activity 3: Standardize categorical values (e.g., ensuring \"Male\" and \"male\" are the same)."
   ]
  },
  {
   "cell_type": "code",
   "execution_count": 37,
   "id": "e06832f0-8bf6-44f6-87f8-49041244be8d",
   "metadata": {},
   "outputs": [],
   "source": [
    "categorical_columns = [\"Gender\", \"Location\", \"Education\", \"Occupation\", \"Primary_App\", \n",
    "                    \"Secondary_Apps\", \"Usage_Frequency\", \"Reason_for_Using\", \n",
    "                    \"Challenges\", \"Desired_Features\", \"Preferred_Communication\"]\n",
    "for col in categorical_columns:\n",
    "    data[col] = data[col].astype(str).str.lower().str.strip()"
   ]
  },
  {
   "cell_type": "code",
   "execution_count": 39,
   "id": "2eebb1c2-8499-472d-bfae-adf46cc28713",
   "metadata": {},
   "outputs": [
    {
     "data": {
      "text/html": [
       "<div>\n",
       "<style scoped>\n",
       "    .dataframe tbody tr th:only-of-type {\n",
       "        vertical-align: middle;\n",
       "    }\n",
       "\n",
       "    .dataframe tbody tr th {\n",
       "        vertical-align: top;\n",
       "    }\n",
       "\n",
       "    .dataframe thead th {\n",
       "        text-align: right;\n",
       "    }\n",
       "</style>\n",
       "<table border=\"1\" class=\"dataframe\">\n",
       "  <thead>\n",
       "    <tr style=\"text-align: right;\">\n",
       "      <th></th>\n",
       "      <th>User_ID</th>\n",
       "      <th>Age</th>\n",
       "      <th>Gender</th>\n",
       "      <th>Location</th>\n",
       "      <th>Education</th>\n",
       "      <th>Occupation</th>\n",
       "      <th>Primary_App</th>\n",
       "      <th>Secondary_Apps</th>\n",
       "      <th>Usage_Frequency</th>\n",
       "      <th>Daily_Usage_Time</th>\n",
       "      <th>Reason_for_Using</th>\n",
       "      <th>Satisfaction</th>\n",
       "      <th>Challenges</th>\n",
       "      <th>Desired_Features</th>\n",
       "      <th>Preferred_Communication</th>\n",
       "      <th>Partner_Priorities</th>\n",
       "    </tr>\n",
       "  </thead>\n",
       "  <tbody>\n",
       "    <tr>\n",
       "      <th>0</th>\n",
       "      <td>1</td>\n",
       "      <td>20</td>\n",
       "      <td>non-binary</td>\n",
       "      <td>bangalore</td>\n",
       "      <td>undergraduate</td>\n",
       "      <td>freelancer</td>\n",
       "      <td>hinge</td>\n",
       "      <td>hinge</td>\n",
       "      <td>monthly</td>\n",
       "      <td>1 hour</td>\n",
       "      <td>finding a partner</td>\n",
       "      <td>4</td>\n",
       "      <td>safety concerns</td>\n",
       "      <td>audio calls</td>\n",
       "      <td>video calls</td>\n",
       "      <td>Values &gt; Personality &gt; Appearance</td>\n",
       "    </tr>\n",
       "    <tr>\n",
       "      <th>1</th>\n",
       "      <td>2</td>\n",
       "      <td>24</td>\n",
       "      <td>female</td>\n",
       "      <td>delhi</td>\n",
       "      <td>undergraduate</td>\n",
       "      <td>part-time job</td>\n",
       "      <td>hinge</td>\n",
       "      <td>okcupid</td>\n",
       "      <td>weekly</td>\n",
       "      <td>30 minutes</td>\n",
       "      <td>casual dating</td>\n",
       "      <td>5</td>\n",
       "      <td>time-wasting</td>\n",
       "      <td>video calls</td>\n",
       "      <td>text</td>\n",
       "      <td>Values &gt; Personality &gt; Appearance</td>\n",
       "    </tr>\n",
       "    <tr>\n",
       "      <th>2</th>\n",
       "      <td>3</td>\n",
       "      <td>24</td>\n",
       "      <td>non-binary</td>\n",
       "      <td>kolkata</td>\n",
       "      <td>undergraduate</td>\n",
       "      <td>intern</td>\n",
       "      <td>none</td>\n",
       "      <td>none</td>\n",
       "      <td>weekly</td>\n",
       "      <td>2 hours</td>\n",
       "      <td>casual dating</td>\n",
       "      <td>4</td>\n",
       "      <td>safety concerns</td>\n",
       "      <td>detailed profiles</td>\n",
       "      <td>text</td>\n",
       "      <td>Values &gt; Personality &gt; Appearance</td>\n",
       "    </tr>\n",
       "    <tr>\n",
       "      <th>3</th>\n",
       "      <td>4</td>\n",
       "      <td>22</td>\n",
       "      <td>non-binary</td>\n",
       "      <td>delhi</td>\n",
       "      <td>graduate</td>\n",
       "      <td>full-time job</td>\n",
       "      <td>none</td>\n",
       "      <td>okcupid</td>\n",
       "      <td>daily</td>\n",
       "      <td>30 minutes</td>\n",
       "      <td>casual fun</td>\n",
       "      <td>3</td>\n",
       "      <td>unknown</td>\n",
       "      <td>ai recommendations</td>\n",
       "      <td>voice notes</td>\n",
       "      <td>Personality &gt; Interests &gt; Values</td>\n",
       "    </tr>\n",
       "    <tr>\n",
       "      <th>4</th>\n",
       "      <td>5</td>\n",
       "      <td>18</td>\n",
       "      <td>male</td>\n",
       "      <td>delhi</td>\n",
       "      <td>graduate</td>\n",
       "      <td>intern</td>\n",
       "      <td>okcupid</td>\n",
       "      <td>okcupid</td>\n",
       "      <td>weekly</td>\n",
       "      <td>2 hours</td>\n",
       "      <td>casual fun</td>\n",
       "      <td>4</td>\n",
       "      <td>safety concerns</td>\n",
       "      <td>video calls</td>\n",
       "      <td>text</td>\n",
       "      <td>Appearance &gt; Interests &gt; Personality</td>\n",
       "    </tr>\n",
       "  </tbody>\n",
       "</table>\n",
       "</div>"
      ],
      "text/plain": [
       "   User_ID  Age      Gender   Location      Education     Occupation  \\\n",
       "0        1   20  non-binary  bangalore  undergraduate     freelancer   \n",
       "1        2   24      female      delhi  undergraduate  part-time job   \n",
       "2        3   24  non-binary    kolkata  undergraduate         intern   \n",
       "3        4   22  non-binary      delhi       graduate  full-time job   \n",
       "4        5   18        male      delhi       graduate         intern   \n",
       "\n",
       "  Primary_App Secondary_Apps Usage_Frequency Daily_Usage_Time  \\\n",
       "0       hinge          hinge         monthly           1 hour   \n",
       "1       hinge        okcupid          weekly       30 minutes   \n",
       "2        none           none          weekly          2 hours   \n",
       "3        none        okcupid           daily       30 minutes   \n",
       "4     okcupid        okcupid          weekly          2 hours   \n",
       "\n",
       "    Reason_for_Using  Satisfaction       Challenges    Desired_Features  \\\n",
       "0  finding a partner             4  safety concerns         audio calls   \n",
       "1      casual dating             5     time-wasting         video calls   \n",
       "2      casual dating             4  safety concerns   detailed profiles   \n",
       "3         casual fun             3          unknown  ai recommendations   \n",
       "4         casual fun             4  safety concerns         video calls   \n",
       "\n",
       "  Preferred_Communication                    Partner_Priorities  \n",
       "0             video calls     Values > Personality > Appearance  \n",
       "1                    text     Values > Personality > Appearance  \n",
       "2                    text     Values > Personality > Appearance  \n",
       "3             voice notes      Personality > Interests > Values  \n",
       "4                    text  Appearance > Interests > Personality  "
      ]
     },
     "execution_count": 39,
     "metadata": {},
     "output_type": "execute_result"
    }
   ],
   "source": [
    "data.head(5)"
   ]
  },
  {
   "cell_type": "code",
   "execution_count": 42,
   "id": "fb828de0-30c6-40f3-aca5-a16667f55dcd",
   "metadata": {},
   "outputs": [],
   "source": [
    "#To convert all object data types into categorical data types\n",
    "for col in data.select_dtypes(include='object').columns:\n",
    "    data[col] = data[col].astype('category')"
   ]
  },
  {
   "cell_type": "code",
   "execution_count": 43,
   "id": "83c3f642-760f-40df-84b2-4e64405fc03e",
   "metadata": {},
   "outputs": [
    {
     "name": "stdout",
     "output_type": "stream",
     "text": [
      "<class 'pandas.core.frame.DataFrame'>\n",
      "RangeIndex: 500 entries, 0 to 499\n",
      "Data columns (total 16 columns):\n",
      " #   Column                   Non-Null Count  Dtype   \n",
      "---  ------                   --------------  -----   \n",
      " 0   User_ID                  500 non-null    int64   \n",
      " 1   Age                      500 non-null    int64   \n",
      " 2   Gender                   500 non-null    category\n",
      " 3   Location                 500 non-null    category\n",
      " 4   Education                500 non-null    category\n",
      " 5   Occupation               500 non-null    category\n",
      " 6   Primary_App              500 non-null    category\n",
      " 7   Secondary_Apps           500 non-null    category\n",
      " 8   Usage_Frequency          500 non-null    category\n",
      " 9   Daily_Usage_Time         500 non-null    category\n",
      " 10  Reason_for_Using         500 non-null    category\n",
      " 11  Satisfaction             500 non-null    int64   \n",
      " 12  Challenges               500 non-null    category\n",
      " 13  Desired_Features         500 non-null    category\n",
      " 14  Preferred_Communication  500 non-null    category\n",
      " 15  Partner_Priorities       500 non-null    category\n",
      "dtypes: category(13), int64(3)\n",
      "memory usage: 20.6 KB\n"
     ]
    }
   ],
   "source": [
    "data.info()"
   ]
  },
  {
   "cell_type": "code",
   "execution_count": 47,
   "id": "0b910628-bedf-4142-8966-7c1bb6210332",
   "metadata": {},
   "outputs": [
    {
     "data": {
      "image/png": "[encoded data removed]",
      "text/plain": [
       "<Figure size 640x480 with 1 Axes>"
      ]
     },
     "metadata": {},
     "output_type": "display_data"
    }
   ],
   "source": [
    "# Plot a boxplot to identify the outliers\n",
    "plt.boxplot(data['Age'])\n",
    "plt.title('Boxplot for Age')\n",
    "plt.show()"
   ]
  },
  {
   "cell_type": "code",
   "execution_count": 48,
   "id": "bff409cf-880b-4ff6-b94b-faaf127a9bfb",
   "metadata": {},
   "outputs": [
    {
     "data": {
      "image/png": "[encoded data removed]",
      "text/plain": [
       "<Figure size 640x480 with 1 Axes>"
      ]
     },
     "metadata": {},
     "output_type": "display_data"
    }
   ],
   "source": [
    "# Plot a boxplot to identify the outliers\n",
    "plt.boxplot(data['User_ID'])\n",
    "plt.title('Boxplot for User)ID')\n",
    "plt.show()"
   ]
  },
  {
   "cell_type": "code",
   "execution_count": 49,
   "id": "a2440f39-46f2-49cf-b9a3-02eb6bc93e2e",
   "metadata": {},
   "outputs": [
    {
     "data": {
      "image/png": "[encoded data removed]",
      "text/plain": [
       "<Figure size 640x480 with 1 Axes>"
      ]
     },
     "metadata": {},
     "output_type": "display_data"
    }
   ],
   "source": [
    "# Plot a boxplot to identify the outliers\n",
    "plt.boxplot(data['Satisfaction'])\n",
    "plt.title('Boxplot for Satisfaction')\n",
    "plt.show()"
   ]
  },
  {
   "cell_type": "code",
   "execution_count": 50,
   "id": "f67db3c7-63ee-4348-a504-5b479d564b0b",
   "metadata": {},
   "outputs": [],
   "source": [
    "data.to_csv('Cleaned_GenZ_DatingApp_Data.csv', index=False)"
   ]
  },
  {
   "cell_type": "code",
   "execution_count": null,
   "id": "544e89e8-a756-4da2-bc5c-c1233ad0d0f9",
   "metadata": {},
   "outputs": [],
   "source": []
  }
 ],
 "metadata": {
  "kernelspec": {
   "display_name": "Python 3 (ipykernel)",
   "language": "python",
   "name": "python3"
  },
  "language_info": {
   "codemirror_mode": {
    "name": "ipython",
    "version": 3
   },
   "file_extension": ".py",
   "mimetype": "text/x-python",
   "name": "python",
   "nbconvert_exporter": "python",
   "pygments_lexer": "ipython3",
   "version": "3.12.8"
  }
 },
 "nbformat": 4,
 "nbformat_minor": 5
}
